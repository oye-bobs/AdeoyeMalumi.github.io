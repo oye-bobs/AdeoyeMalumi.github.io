{
 "cells": [
  {
   "cell_type": "markdown",
   "id": "541e060f",
   "metadata": {},
   "source": [
    "<b>The 7.8 Magnitude Gorkha Earthquake on April 25, 2015 in Nepal</b>\n",
    "<img src=https://upload.wikimedia.org/wikipedia/commons/d/d0/April_2015_Nepal_earthquake_ShakeMap_version_6.png>"
   ]
  },
  {
   "cell_type": "markdown",
   "id": "f3047e5f",
   "metadata": {},
   "source": [
    "<b>Setting Up Libraries and Client</b>\n",
    "\n",
    "In this section, we will import the essential libraries and initialize the client required for retrieving and processing earthquake data.\n",
    "\n",
    "<b>Explanation</b>\n",
    "\n",
    "1. **Importing Libraries**:\n",
    "   - `import matplotlib.pyplot as plt`: This imports the `pyplot` module from Matplotlib, which is used for creating various types of plots and visualizations.\n",
    "   - `import matplotlib.dates as mdates`: This imports the `dates` module from Matplotlib, which provides functions for handling and formatting dates in plots.\n",
    "   - `from obspy import UTCDateTime`: This imports the `UTCDateTime` class from ObsPy, which is used for handling and formatting dates and times in earthquake data.\n",
    "   - `from obspy.clients.fdsn import Client`: This imports the `Client` class from ObsPy's FDSN (Federated Data Services Network) module, which is used for querying earthquake catalogs.\n",
    "\n",
    "2. **Initializing the Client**:\n",
    "   - `client = Client(\"IRIS\")`: This creates an instance of the `Client` class with the \"IRIS\" network, which allows us to access earthquake catalog data from the IRIS (Incorporated Research Institutions for Seismology) data repository.\n",
    "\n",
    "By importing these libraries and initializing the client, we set up the necessary tools for accessing earthquake data and preparing it for analysis and visualization."
   ]
  },
  {
   "cell_type": "code",
   "execution_count": 2,
   "id": "27e8e9ad",
   "metadata": {},
   "outputs": [],
   "source": [
    "import matplotlib.pyplot as plt\n",
    "import matplotlib.dates as mdates\n",
    "from obspy import UTCDateTime\n",
    "from obspy.clients.fdsn import Client\n",
    "client = Client(\"IRIS\")"
   ]
  },
  {
   "cell_type": "markdown",
   "id": "b80eaf15",
   "metadata": {},
   "source": [
    "<b>Setting Search Parameters</b>\n",
    "\n",
    "In this section, we define the parameters for our earthquake catalog search. These parameters include the date range, geographical location, search radius, and minimum magnitude for the events we want to retrieve.\n",
    "\n",
    "<b> Explanation</b>\n",
    "\n",
    "1. **Date Range**:\n",
    "   - `startt = UTCDateTime(\"2005-04-25\")`: This sets the start date for the search to April 6, 2005, using the `UTCDateTime` format from ObsPy. This is 10 years before the 2015 Nepal earthquake.\n",
    "   - `endt = UTCDateTime(\"2015-04-25\")`: This sets the end date for the search to April 25, 2015, the day of the mainshock.\n",
    "\n",
    "2. **Geographical Location**:\n",
    "   - `lon = 84.7314`: This sets the longitude of the search's central location, specifically for the 2015 Nepal earthquake epicenter.\n",
    "   - `lat = 28.2312`: This sets the latitude of the search's central location.\n",
    "\n",
    "3. **Search Radius**:\n",
    "   - `maxrad = 2.0`: This sets the maximum radius of the search area to 2.0 degrees. The search will include events within a 2-degree radius from the specified latitude and longitude.\n",
    "\n",
    "4. **Minimum Magnitude**:\n",
    "   - `minmag = 4.0`: This sets the minimum magnitude for the earthquakes to be included in the search. Only events with a magnitude of 4.0 or greater will be retrieved.\n",
    "\n",
    "By setting these parameters, we define the specific criteria for the earthquake data we want to analyze, focusing on the region around the 2015 Nepal earthquake epicenter over a 10-year period leading up to the mainshock.\n"
   ]
  },
  {
   "cell_type": "code",
   "execution_count": 3,
   "id": "a9558bd8",
   "metadata": {},
   "outputs": [],
   "source": [
    "startt = UTCDateTime(\"2005-04-25\")\n",
    "endt = UTCDateTime(\"2015-04-25\") \n",
    "lon = 84.7314\n",
    "lat = 28.2312\n",
    "maxrad = 2.0 \n",
    "minmag = 4.0"
   ]
  },
  {
   "cell_type": "markdown",
   "id": "60054abf",
   "metadata": {},
   "source": [
    "<b>Retrieving the Earthquake Catalog</b>\n",
    "\n",
    "In this section, we use the `client.get_events()` function from the ObsPy library to retrieve an earthquake catalog based on the search parameters we previously set. The catalog will include events within the specified date range, geographical location, and magnitude criteria.\n",
    "\n",
    "<b>Explanation</b>\n",
    "\n",
    "**Function:** `client.get_events()`\n",
    "\n",
    "This function queries the specified earthquake data provider (in this case, IRIS) and retrieves a catalog of events that match the criteria provided.\n",
    "\n",
    "**Parameters:**\n",
    "\n",
    "- `starttime=startt`: The start time for the search (April 25, 2005).\n",
    "- `endtime=endt`: The end time for the search (April 25, 2015).\n",
    "- `latitude=lat`: The latitude of the search's central location (28.2312).\n",
    "- `longitude=lon`: The longitude of the search's central location (84.7314).\n",
    "- `maxradius=maxrad`: The maximum radius of the search area, in degrees (2.0).\n",
    "- `minmagnitude=minmag`: The minimum magnitude of events to be included in the catalog (4.0).\n",
    "- `catalog=\"ISC\"`: Specifies that the catalog from the International Seismological Centre (ISC) will be used for this search.\n",
    "\n",
    "This command gathers a comprehensive list of seismic events that occurred within the specified area and timeframe, focusing on the region around the specified coordinates. The resulting catalog object (`cat`) will contain the earthquake data, which we can analyze and visualize in the subsequent steps.\n"
   ]
  },
  {
   "cell_type": "code",
   "execution_count": 4,
   "id": "04adc371",
   "metadata": {},
   "outputs": [],
   "source": [
    "cat = client.get_events(starttime=startt, endtime=endt, latitude=lat, longitude=lon, maxradius=maxrad, minmagnitude=minmag, catalog=\"ISC\")"
   ]
  },
  {
   "cell_type": "code",
   "execution_count": 5,
   "id": "f89bdbcc",
   "metadata": {},
   "outputs": [
    {
     "name": "stdout",
     "output_type": "stream",
     "text": [
      "43 Event(s) in Catalog:\n",
      "2015-04-02T00:56:41.240000Z | +28.756,  +86.388 | 4.6  mb\n",
      "2015-01-31T13:59:42.140000Z | +28.287,  +84.015 | 4.8  mb\n",
      "...\n",
      "2005-10-31T21:47:54.460000Z | +28.496,  +84.901 | 4.7  MW\n",
      "2005-10-14T07:23:28.680000Z | +27.960,  +86.618 | 4.0  mb\n",
      "To see all events call 'print(CatalogObject.__str__(print_all=True))'\n"
     ]
    }
   ],
   "source": [
    "print(cat)"
   ]
  },
  {
   "cell_type": "markdown",
   "id": "6704d08c",
   "metadata": {},
   "source": [
    "<b>Creating Lists for Earthquake Times and Magnitudes</b>\n",
    "\n",
    "In this section, we will process the earthquake catalog data to extract and organize the information into two separate lists: `times` and `mags`.\n",
    "\n",
    "<b>Explanation</b>>\n",
    "\n",
    "1. **Initialization of Lists**: \n",
    "   - We start by creating two empty lists, `times` and `mags`, using the syntax `[]`. These lists will be used to store the origin times and magnitudes of each earthquake event, respectively.\n",
    "\n",
    "2. **Loop Through Events**:\n",
    "   - We will loop through each earthquake event in the catalog (`cat`) obtained from `client.get_events()`. During this loop, we will extract specific details from each event.\n",
    "\n",
    "3. **Extracting Data**:\n",
    "   - For each event, the origin time is accessed using `event.origins[0].time.datetime`, and the magnitude is accessed using `event.magnitudes[0].mag`.\n",
    "   - `event.origins[0].time.datetime` retrieves the time of the earthquake event, while `event.magnitudes[0].mag` retrieves the magnitude.\n",
    "\n",
    "4. **Appending Data to Lists**:\n",
    "   - The `times.append()` method is used to add each extracted origin time to the `times` list.\n",
    "   - Similarly, the `mags.append()` method is used to add each extracted magnitude to the `mags` list.\n",
    "\n",
    "5. **Purpose of Lists**:\n",
    "   - By organizing the data into these lists, we make it easier to modify and plot the times and magnitudes using Matplotlib in the subsequent steps.\n",
    "\n",
    "This structured approach allows us to efficiently handle and visualize earthquake data, making it easier to identify patterns and trends."
   ]
  },
  {
   "cell_type": "code",
   "execution_count": 6,
   "id": "73e391f5",
   "metadata": {},
   "outputs": [
    {
     "name": "stdout",
     "output_type": "stream",
     "text": [
      "2014-08-03 05:57:30.560000 5.2\n"
     ]
    }
   ],
   "source": [
    "times = []\n",
    "mags = []\n",
    "for event in cat:\n",
    "    times.append(event.origins[0].time.datetime)\n",
    "    mags.append(event.magnitudes[0].mag)\n",
    "print (times[4],mags[4])"
   ]
  },
  {
   "cell_type": "markdown",
   "id": "f274abea",
   "metadata": {},
   "source": [
    "<b>Converting Times to Matplotlib Format</b>\n",
    "\n",
    "In this step, we'll convert the `times` list, which contains datetime objects, into a format that matplotlib can use for plotting on the x-axis. This is achieved using the `mdates.date2num()` function from the `matplotlib.dates` module. The following code will create a new list called `mtimes` that contains these converted times:\n",
    "\n"
   ]
  },
  {
   "cell_type": "code",
   "execution_count": 7,
   "id": "d38f727b",
   "metadata": {},
   "outputs": [
    {
     "name": "stdout",
     "output_type": "stream",
     "text": [
      "[16527.0393662  16466.58312662 16422.64737211 16399.65909248\n",
      " 16285.24827037 16285.24819444 16285.24053264 16234.67807338\n",
      " 15980.9781066  15947.75173484 15947.74217002 15882.93207593\n",
      " 15649.54721875 15576.16379421 15576.01197222 15575.68774433\n",
      " 15563.65603194 15561.55005567 15553.82644248 15500.32928646\n",
      " 15290.9909147  15201.70005868 15118.53610243 15059.34933819\n",
      " 15045.00472454 14938.58718021 14900.18533426 14899.84120451\n",
      " 14668.91907245 14666.19627419 14555.83945775 14547.18691354\n",
      " 14360.54570139 14299.64134618 14141.82428356 14050.75413391\n",
      " 13822.73085868 13815.4092684  13242.34938113 13182.08180741\n",
      " 13142.755614   13087.90826921 13070.30797083]\n"
     ]
    }
   ],
   "source": [
    "mtimes = mdates.date2num(times)\n",
    "print(mtimes)"
   ]
  },
  {
   "cell_type": "markdown",
   "id": "fcaa5d61",
   "metadata": {},
   "source": [
    "<b>Plotting Earthquake Magnitudes Over Time</b>\n",
    "The following code will create a plot that displays the magnitude of each earthquake in the catalog over time. We start by initiating the plot with the plt.subplots(1, 1) command, which sets up a single plot (subplot) on the figure. The plt.plot_date() function is then used to plot the magnitudes (mags) on the y-axis against the corresponding times (mtimes) on the x-axis, with each earthquake represented as a point (specified by the marker='.'). Finally, the plt.show() command is called to render and display the plot."
   ]
  },
  {
   "cell_type": "code",
   "execution_count": 9,
   "id": "caa0cff9",
   "metadata": {},
   "outputs": [
    {
     "name": "stderr",
     "output_type": "stream",
     "text": [
      "/tmp/ipykernel_656/3485142674.py:2: UserWarning: marker is redundantly defined by the 'marker' keyword argument and the fmt string \"o\" (-> marker='o'). The keyword argument will take precedence.\n",
      "  plt.plot_date(mtimes, mags,marker= '.')\n"
     ]
    },
    {
     "data": {
      "image/png": "[encoded data removed]",
      "text/plain": [
       "<Figure size 640x480 with 1 Axes>"
      ]
     },
     "metadata": {},
     "output_type": "display_data"
    }
   ],
   "source": [
    "fig1, ax1 = plt.subplots(1, 1)\n",
    "plt.plot_date(mtimes, mags,marker= '.')\n",
    "plt.show()"
   ]
  },
  {
   "cell_type": "markdown",
   "id": "22d4a359",
   "metadata": {},
   "source": [
    "<b>Histogram of Seismicity Rates Leading Up to the 2015 Earthquake</b>\n",
    "\n",
    "In this section, we will analyze the seismicity rates leading up to the 2009 earthquake by creating a histogram. The code below accomplishes the following:\n",
    "\n",
    "1. **Initialization**: We define the plot with `fig2, axes = plt.subplots(1, 1)`, which creates a figure and a set of axes for the plot.\n",
    "\n",
    "2. **Histogram Plotting**: We use `axes.hist(mtimes, bins=120)` to plot the histogram of seismicity rates. The `bins=120` parameter provides a fine resolution, allowing us to see the distribution of seismic events over time with greater detail.\n",
    "\n",
    "3. **X-Axis Formatting**: To make the plot more informative, we format the X-axis to display years:\n",
    "   - `axes.xaxis.set_major_locator(mdates.YearLocator())` sets the major ticks on the X-axis to appear at yearly intervals.\n",
    "   - `axes.xaxis.set_major_formatter(mdates.DateFormatter('%Y'))` formats the major ticks to show the year in a four-digit format.\n",
    "\n",
    "4. **Displaying the Plot**: Finally, `plt.show()` is used to display the plot within the notebook.\n",
    "\n",
    "This approach allows us to visualize the changes in seismicity rates over time, focusing on the period leading up to the 2015 earthquake."
   ]
  },
  {
   "cell_type": "code",
   "execution_count": 12,
   "id": "bc516299",
   "metadata": {},
   "outputs": [
    {
     "data": {
      "image/png": "[encoded data removed]",
      "text/plain": [
       "<Figure size 640x480 with 1 Axes>"
      ]
     },
     "metadata": {},
     "output_type": "display_data"
    }
   ],
   "source": [
    "fig2, axes = plt.subplots(1, 1)\n",
    "axes.hist(mtimes, bins=120)\n",
    "axes.xaxis.set_major_locator(mdates.YearLocator())\n",
    "axes.xaxis.set_major_formatter(mdates.DateFormatter('%Y'))\n",
    "plt.show()"
   ]
  },
  {
   "cell_type": "markdown",
   "id": "ec70f175",
   "metadata": {},
   "source": [
    "<b>Summary of Seismicity Analysis</b>\n",
    "\n",
    "**Increased Activity Before the 2015 Earthquake:** There was a noticeable increase in seismicity rates leading up to the 2015 Nepal earthquake, reflecting an escalation in tectonic activity in the region.\n",
    "\n",
    "**Long-Term High Seismicity:** Two years(2012-2013) preceding the 2015 earthquake showed elevated seismicity rates compared to earlier periods, suggesting sustained tectonic stress in the area.\n",
    "\n",
    "**Major Earthquake Event:** The 2015 Nepal earthquake, with a magnitude of 7.8, was the most significant seismic event in the region during this period. It marked the culmination of the ongoing tectonic stress and resulted in widespread impact.\n",
    "\n",
    "This summary underscores the period of elevated seismic activity that ultimately led to the 2015 Nepal earthquake, illustrating the complex dynamics of seismic events and their potential to culminate in significant earthquakes.\n"
   ]
  },
  {
   "cell_type": "code",
   "execution_count": null,
   "id": "febe7968",
   "metadata": {},
   "outputs": [],
   "source": []
  }
 ],
 "metadata": {
  "kernelspec": {
   "display_name": "iris",
   "language": "python",
   "name": "python3"
  },
  "language_info": {
   "codemirror_mode": {
    "name": "ipython",
    "version": 3
   },
   "file_extension": ".py",
   "mimetype": "text/x-python",
   "name": "python",
   "nbconvert_exporter": "python",
   "pygments_lexer": "ipython3",
   "version": "3.11.9"
  }
 },
 "nbformat": 4,
 "nbformat_minor": 5
}
